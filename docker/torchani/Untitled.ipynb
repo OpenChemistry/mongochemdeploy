{
 "cells": [
  {
   "cell_type": "code",
   "execution_count": 75,
   "metadata": {},
   "outputs": [],
   "source": [
    "import torch\n",
    "import torchani\n",
    "import ase\n",
    "import ase.data\n",
    "import ase.optimize\n",
    "import ase.vibrations\n",
    "import json"
   ]
  },
  {
   "cell_type": "code",
   "execution_count": 71,
   "metadata": {},
   "outputs": [
    {
     "data": {
      "text/plain": [
       "20020.0"
      ]
     },
     "execution_count": 71,
     "metadata": {},
     "output_type": "execute_result"
    }
   ],
   "source": [
    "import scipy\n",
    "import scipy.special\n",
    "#import scipy.special.binom\n",
    "scipy.special.binom(8, 4) * 286"
   ]
  },
  {
   "cell_type": "code",
   "execution_count": null,
   "metadata": {},
   "outputs": [],
   "source": [
    "ase."
   ]
  },
  {
   "cell_type": "code",
   "execution_count": 61,
   "metadata": {},
   "outputs": [],
   "source": [
    "with open('/home/alessandro/Downloads/ethane.cjson') as f:\n",
    "    cjson = json.load(f)"
   ]
  },
  {
   "cell_type": "code",
   "execution_count": 140,
   "metadata": {},
   "outputs": [],
   "source": [
    "def get_ase_atoms(cjson_atoms):\n",
    "    elements = cjson_atoms.get('elements', {})\n",
    "    number = elements.get('number')\n",
    "    if number is None:\n",
    "        symbol = elements.get('symbol')\n",
    "        if symbol is None:\n",
    "            raise Exception('Atomic numbers are missing.')\n",
    "        number = list(map(lambda sym : ase.data.atomic_numbers[sym], symbol))\n",
    "    n_atoms = len(number)\n",
    "    positions = cjson_atoms.get('coords', {}).get('3d', [])\n",
    "    if len(positions) != 3 * n_atoms:\n",
    "        raise Exception('Atomic positions are missing.')\n",
    "    atoms = []\n",
    "    for i in range(n_atoms):\n",
    "        atoms.append(ase.Atom(number[i], positions[i * 3 : i * 3 + 3]))\n",
    "    return atoms\n",
    "\n",
    "def get_cjson_atoms(ase_molecule):\n",
    "    atoms = {\n",
    "        'coords': {\n",
    "            '3d': list(ase_molecule.get_positions().flatten())\n",
    "        },\n",
    "        'elements': {\n",
    "            'number': list(ase_molecule.get_atomic_numbers())\n",
    "        }\n",
    "    }\n",
    "    return atoms\n",
    "\n",
    "def get_cjson_vibrations(ase_vibrations):\n",
    "    n_frequencies = len(ase_vibrations.get_frequencies())\n",
    "    vibrations = {\n",
    "        'frequencies': [freq.real for freq in ase_vibrations.get_frequencies()],\n",
    "        'intensities': [1 for i in range(n_frequencies)],\n",
    "        'modes': list(range(n_frequencies)),\n",
    "        'eigenVectors': [list(vib.get_mode(i).flatten()) for i in range(n_frequencies)]\n",
    "    }\n",
    "    return vibrations"
   ]
  },
  {
   "cell_type": "code",
   "execution_count": 143,
   "metadata": {},
   "outputs": [],
   "source": [
    "atoms = get_ase_atoms(cjson.get('atoms', {}))\n",
    "calculator = torchani.models.ANI1ccx().ase()\n",
    "calculator.device = torch.device('cpu')\n",
    "molecule = ase.Atoms(atoms, calculator=calculator)"
   ]
  },
  {
   "cell_type": "code",
   "execution_count": 93,
   "metadata": {},
   "outputs": [
    {
     "data": {
      "text/plain": [
       "-2169.4247092252085"
      ]
     },
     "execution_count": 93,
     "metadata": {},
     "output_type": "execute_result"
    }
   ],
   "source": [
    "molecule.get_potential_energy()"
   ]
  },
  {
   "cell_type": "code",
   "execution_count": 96,
   "metadata": {},
   "outputs": [
    {
     "name": "stdout",
     "output_type": "stream",
     "text": [
      "      Step     Time          Energy         fmax\n",
      "BFGS:    0 10:10:59    -2169.424709        0.0001\n"
     ]
    },
    {
     "data": {
      "text/plain": [
       "True"
      ]
     },
     "execution_count": 96,
     "metadata": {},
     "output_type": "execute_result"
    }
   ],
   "source": [
    "ase.optimize.BFGS(molecule).run(fmax=0.0005)"
   ]
  },
  {
   "cell_type": "code",
   "execution_count": 89,
   "metadata": {},
   "outputs": [
    {
     "name": "stdout",
     "output_type": "stream",
     "text": [
      "      Step     Time          Energy         fmax\n",
      "BFGS:    0 10:07:04    -2169.382531        1.0041\n",
      "BFGS:    1 10:07:04    -2169.416977        0.2255\n",
      "BFGS:    2 10:07:04    -2169.421884        0.2190\n",
      "BFGS:    3 10:07:04    -2169.424448        0.0241\n",
      "BFGS:    4 10:07:04    -2169.424501        0.0214\n",
      "BFGS:    5 10:07:04    -2169.424638        0.0315\n",
      "BFGS:    6 10:07:04    -2169.424693        0.0256\n",
      "BFGS:    7 10:07:04    -2169.424708        0.0068\n",
      "BFGS:    8 10:07:04    -2169.424709        0.0007\n"
     ]
    },
    {
     "data": {
      "text/plain": [
       "True"
      ]
     },
     "execution_count": 89,
     "metadata": {},
     "output_type": "execute_result"
    }
   ],
   "source": [
    "opt.run(fmax=0.001)"
   ]
  },
  {
   "cell_type": "code",
   "execution_count": 132,
   "metadata": {},
   "outputs": [
    {
     "data": {
      "text/plain": [
       "[0, 1, 2, 3, 4]"
      ]
     },
     "execution_count": 132,
     "metadata": {},
     "output_type": "execute_result"
    }
   ],
   "source": [
    "list(range(5))"
   ]
  },
  {
   "cell_type": "code",
   "execution_count": 108,
   "metadata": {},
   "outputs": [
    {
     "data": {
      "text/plain": [
       "{'coords': {'3d': [-1.1112093830802183e-15,\n",
       "   1.0989442434119487e-15,\n",
       "   0.7616506004930851,\n",
       "   4.361237659819565e-16,\n",
       "   -2.9989762853506413e-16,\n",
       "   -0.7616506004930849,\n",
       "   -0.7187301816637649,\n",
       "   0.7187301816637648,\n",
       "   -1.1583496619933593,\n",
       "   -0.26307350495554244,\n",
       "   -0.9818036866193076,\n",
       "   -1.158349661993359,\n",
       "   0.9818036866193076,\n",
       "   0.2630735049555423,\n",
       "   -1.1583496619933589,\n",
       "   0.2630735049555421,\n",
       "   0.9818036866193071,\n",
       "   1.1583496619933586,\n",
       "   -0.981803686619307,\n",
       "   -0.26307350495554216,\n",
       "   1.1583496619933586,\n",
       "   0.718730181663765,\n",
       "   -0.7187301816637651,\n",
       "   1.1583496619933598]},\n",
       " 'elements': {'number': [6, 6, 1, 1, 1, 1, 1, 1]}}"
      ]
     },
     "execution_count": 108,
     "metadata": {},
     "output_type": "execute_result"
    }
   ],
   "source": [
    "get_cjson_atoms(molecule)"
   ]
  },
  {
   "cell_type": "code",
   "execution_count": 44,
   "metadata": {},
   "outputs": [
    {
     "data": {
      "text/plain": [
       "(-3080.760161188891, array([[ 0.        ,  0.        , -0.06804198],\n",
       "        [ 0.        ,  0.        ,  1.06804198]]))"
      ]
     },
     "execution_count": 44,
     "metadata": {},
     "output_type": "execute_result"
    }
   ],
   "source": [
    "atoms.get_potential_energy(), atoms.get_positions()"
   ]
  },
  {
   "cell_type": "code",
   "execution_count": 46,
   "metadata": {},
   "outputs": [],
   "source": [
    "vib = ase.vibrations.Vibrations(atoms)"
   ]
  },
  {
   "cell_type": "code",
   "execution_count": 47,
   "metadata": {},
   "outputs": [
    {
     "name": "stdout",
     "output_type": "stream",
     "text": [
      "Writing vib.eq.pckl\n",
      "Writing vib.0x-.pckl\n",
      "Writing vib.0x+.pckl\n",
      "Writing vib.0y-.pckl\n",
      "Writing vib.0y+.pckl\n",
      "Writing vib.0z-.pckl\n",
      "Writing vib.0z+.pckl\n",
      "Writing vib.1x-.pckl\n",
      "Writing vib.1x+.pckl\n",
      "Writing vib.1y-.pckl\n",
      "Writing vib.1y+.pckl\n",
      "Writing vib.1z-.pckl\n",
      "Writing vib.1z+.pckl\n"
     ]
    }
   ],
   "source": [
    "vib.run()"
   ]
  },
  {
   "cell_type": "code",
   "execution_count": 49,
   "metadata": {},
   "outputs": [
    {
     "name": "stdout",
     "output_type": "stream",
     "text": [
      "---------------------\n",
      "  #    meV     cm^-1\n",
      "---------------------\n",
      "  0    0.0i      0.0i\n",
      "  1    0.0i      0.0i\n",
      "  2    0.0       0.0 \n",
      "  3    1.8      14.3 \n",
      "  4    1.8      14.3 \n",
      "  5  288.9    2330.2 \n",
      "---------------------\n",
      "Zero-point energy: 0.146 eV\n"
     ]
    }
   ],
   "source": [
    "vib.summary()"
   ]
  },
  {
   "cell_type": "code",
   "execution_count": 59,
   "metadata": {},
   "outputs": [
    {
     "data": {
      "text/plain": [
       "array([0.00000000e+00+2.27335628e-05j, 0.00000000e+00+7.74048954e-06j,\n",
       "       8.58529494e-08+0.00000000e+00j, 1.42630597e+01+0.00000000e+00j,\n",
       "       1.42630597e+01+0.00000000e+00j, 2.33017186e+03+0.00000000e+00j])"
      ]
     },
     "execution_count": 59,
     "metadata": {},
     "output_type": "execute_result"
    }
   ],
   "source": [
    "vib.get_frequencies()"
   ]
  },
  {
   "cell_type": "code",
   "execution_count": 126,
   "metadata": {},
   "outputs": [],
   "source": [
    "n_frequencies = len(vib.get_frequencies())\n",
    "modes = [list(vib.get_mode(i).flatten()) for i in range(n_frequencies)]"
   ]
  },
  {
   "cell_type": "code",
   "execution_count": 141,
   "metadata": {},
   "outputs": [
    {
     "data": {
      "text/plain": [
       "{'frequencies': [0.0,\n",
       "  0.0,\n",
       "  8.58529493829796e-08,\n",
       "  14.263059721609435,\n",
       "  14.263059721613807,\n",
       "  2330.1718597699896],\n",
       " 'intensities': [1, 1, 1, 1, 1, 1],\n",
       " 'modes': [0, 1, 2, 3, 4, 5],\n",
       " 'eigenVectors': [[0.0,\n",
       "   0.05136625154948422,\n",
       "   -0.18183245960989786,\n",
       "   0.0,\n",
       "   0.05136625154917987,\n",
       "   -0.18183245960989777],\n",
       "  [-0.0,\n",
       "   -0.1818324596099692,\n",
       "   -0.0513662515493104,\n",
       "   0.0,\n",
       "   -0.18183245960984423,\n",
       "   -0.051366251549310384],\n",
       "  [-0.18894849871330582, 0.0, 0.0, -0.18894849871330582, -0.0, 0.0],\n",
       "  [0.0,\n",
       "   -0.2180721881336718,\n",
       "   -1.2813696083411102e-13,\n",
       "   0.0,\n",
       "   0.16371429787338868,\n",
       "   -1.281237409712108e-13],\n",
       "  [-0.2180721881337722, 0.0, 0.0, 0.16371429787328823, 0.0, 0.0],\n",
       "  [0.0, 0.0, 0.21807218813377222, 0.0, 0.0, -0.16371429787328828]]}"
      ]
     },
     "execution_count": 141,
     "metadata": {},
     "output_type": "execute_result"
    }
   ],
   "source": [
    "get_cjson_vibrations(vib)"
   ]
  },
  {
   "cell_type": "code",
   "execution_count": 145,
   "metadata": {},
   "outputs": [],
   "source": [
    "num = list(molecule.get_atomic_numbers())"
   ]
  },
  {
   "cell_type": "code",
   "execution_count": 150,
   "metadata": {},
   "outputs": [
    {
     "data": {
      "text/plain": [
       "6"
      ]
     },
     "execution_count": 150,
     "metadata": {},
     "output_type": "execute_result"
    }
   ],
   "source": [
    "int(num[0])"
   ]
  }
 ],
 "metadata": {
  "kernelspec": {
   "display_name": "Python 3",
   "language": "python",
   "name": "python3"
  },
  "language_info": {
   "codemirror_mode": {
    "name": "ipython",
    "version": 3
   },
   "file_extension": ".py",
   "mimetype": "text/x-python",
   "name": "python",
   "nbconvert_exporter": "python",
   "pygments_lexer": "ipython3",
   "version": "3.7.3"
  }
 },
 "nbformat": 4,
 "nbformat_minor": 2
}
